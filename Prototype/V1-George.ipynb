{
 "cells": [
  {
   "cell_type": "markdown",
   "metadata": {},
   "source": [
    "# First Prototype\n",
    "\n",
    "**Author: Xiaochi (George) Li**\n"
   ]
  },
  {
   "cell_type": "code",
   "execution_count": 1,
   "metadata": {},
   "outputs": [
    {
     "data": {
      "text/plain": [
       "'1.10.0'"
      ]
     },
     "execution_count": 1,
     "metadata": {},
     "output_type": "execute_result"
    }
   ],
   "source": [
    "import tensorflow as tf\n",
    "tf.__version__"
   ]
  },
  {
   "cell_type": "code",
   "execution_count": 12,
   "metadata": {},
   "outputs": [],
   "source": [
    "import numpy as np\n",
    "from tqdm import tqdm"
   ]
  },
  {
   "cell_type": "code",
   "execution_count": 3,
   "metadata": {},
   "outputs": [],
   "source": [
    "label2expression = {1: \"Surprise\",2: \"Fear\",3: \"Disgust\",4: \"Happiness\",\n",
    "                    5: \"Sadness\", 6: \"Anger\",7: \"Neutral\"}"
   ]
  },
  {
   "cell_type": "code",
   "execution_count": 4,
   "metadata": {},
   "outputs": [],
   "source": [
    "# create image label pair as a dictionary\n",
    "label_file = \"../RAFDB/list_patition_label.txt\"\n",
    "img_label_pair = {}\n",
    "with open(label_file) as all_label:\n",
    "    for label in all_label:\n",
    "        label = label.rstrip()\n",
    "        img_label_pair[label.split(\" \")[0][:-4]+\"_aligned.jpg\"] = int(label.split(\" \")[1])\n"
   ]
  },
  {
   "cell_type": "code",
   "execution_count": 5,
   "metadata": {},
   "outputs": [
    {
     "name": "stdout",
     "output_type": "stream",
     "text": [
      "Surprise\n",
      "(100, 100, 3)\n"
     ]
    },
    {
     "data": {
      "text/plain": [
       "<Figure size 640x480 with 1 Axes>"
      ]
     },
     "metadata": {},
     "output_type": "display_data"
    }
   ],
   "source": [
    "# \n",
    "# https://stackoverflow.com/questions/50753668/how-do-i-set-up-a-image-dataset-in-tensorflow-for-a-cnn\n",
    "import numpy as np\n",
    "from PIL import Image\n",
    "import os.path\n",
    "\n",
    "folder = \"../RAFDB/aligned/\"\n",
    "image_name = \"test_0002_aligned.jpg\"\n",
    "full_name = folder + image_name\n",
    "print(label2expression[img_label_pair[image_name]])\n",
    "img = Image.open(full_name).convert('RGB')\n",
    "img = np.array(img)\n",
    "print(img.shape)\n",
    "\n",
    "import matplotlib.pyplot as plt\n",
    "plt.imshow(img)\n",
    "plt.show()"
   ]
  },
  {
   "cell_type": "code",
   "execution_count": 34,
   "metadata": {},
   "outputs": [
    {
     "name": "stdout",
     "output_type": "stream",
     "text": [
      "aa\n"
     ]
    },
    {
     "name": "stderr",
     "output_type": "stream",
     "text": [
      "100%|███████████████████████████████████| 15339/15339 [00:23<00:00, 645.42it/s]\n"
     ]
    }
   ],
   "source": [
    "import numpy as np\n",
    "from PIL import Image\n",
    "length = 100\n",
    "width = 100\n",
    "\n",
    "i = 0\n",
    "limit = len(img_label_pair)\n",
    "labels = np.zeros(limit)\n",
    "imgs = np.empty((limit, length, width, 3))\n",
    "print(\"aa\")\n",
    "with tqdm(total=limit) as pbar:\n",
    "    for image_name in img_label_pair:\n",
    "\n",
    "        img = Image.open(folder + image_name).convert('RGB')\n",
    "        img = np.array(img).reshape((100,100,3))\n",
    "        # imgs = np.append(imgs, img, axis=0) \n",
    "        imgs[i] = img # faster approach! learning algorithm is useful\n",
    "        labels[i] = img_label_pair[image_name]\n",
    "        i += 1\n",
    "        pbar.update(1)\n",
    "        if i == limit:\n",
    "            break"
   ]
  },
  {
   "cell_type": "code",
   "execution_count": 31,
   "metadata": {},
   "outputs": [
    {
     "data": {
      "text/plain": [
       "15339"
      ]
     },
     "execution_count": 31,
     "metadata": {},
     "output_type": "execute_result"
    }
   ],
   "source": [
    "len(img_label_pair)"
   ]
  },
  {
   "cell_type": "code",
   "execution_count": 16,
   "metadata": {},
   "outputs": [
    {
     "data": {
      "text/plain": [
       "(100, 100, 100, 3)"
      ]
     },
     "execution_count": 16,
     "metadata": {},
     "output_type": "execute_result"
    }
   ],
   "source": [
    "imgs.shape"
   ]
  }
 ],
 "metadata": {
  "kernelspec": {
   "display_name": "Python (DeepLearning)",
   "language": "python",
   "name": "deeplearning"
  },
  "language_info": {
   "codemirror_mode": {
    "name": "ipython",
    "version": 3
   },
   "file_extension": ".py",
   "mimetype": "text/x-python",
   "name": "python",
   "nbconvert_exporter": "python",
   "pygments_lexer": "ipython3",
   "version": "3.6.6"
  }
 },
 "nbformat": 4,
 "nbformat_minor": 2
}
